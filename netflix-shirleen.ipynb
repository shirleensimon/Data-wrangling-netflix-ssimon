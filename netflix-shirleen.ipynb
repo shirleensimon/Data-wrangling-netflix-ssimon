{
 "cells": [
  {
   "cell_type": "code",
   "execution_count": 1,
   "id": "41442e0c",
   "metadata": {
    "_cell_guid": "b1076dfc-b9ad-4769-8c92-a6c4dae69d19",
    "_uuid": "8f2839f25d086af736a60e9eeb907d3b93b6e0e5",
    "execution": {
     "iopub.execute_input": "2025-05-23T19:34:34.936913Z",
     "iopub.status.busy": "2025-05-23T19:34:34.936556Z",
     "iopub.status.idle": "2025-05-23T19:34:37.295732Z",
     "shell.execute_reply": "2025-05-23T19:34:37.294526Z"
    },
    "papermill": {
     "duration": 2.370134,
     "end_time": "2025-05-23T19:34:37.297555",
     "exception": false,
     "start_time": "2025-05-23T19:34:34.927421",
     "status": "completed"
    },
    "tags": []
   },
   "outputs": [
    {
     "name": "stdout",
     "output_type": "stream",
     "text": [
      "/kaggle/input/netflix-shows/netflix_titles.csv\n"
     ]
    }
   ],
   "source": [
    "# This Python 3 environment comes with many helpful analytics libraries installed\n",
    "# It is defined by the kaggle/python Docker image: https://github.com/kaggle/docker-python\n",
    "# For example, here's several helpful packages to load\n",
    "\n",
    "import numpy as np # linear algebra\n",
    "import pandas as pd # data processing, CSV file I/O (e.g. pd.read_csv)\n",
    "\n",
    "# Input data files are available in the read-only \"../input/\" directory\n",
    "# For example, running this (by clicking run or pressing Shift+Enter) will list all files under the input directory\n",
    "\n",
    "import os\n",
    "for dirname, _, filenames in os.walk('/kaggle/input'):\n",
    "    for filename in filenames:\n",
    "        print(os.path.join(dirname, filename))\n",
    "\n",
    "# You can write up to 20GB to the current directory (/kaggle/working/) that gets preserved as output when you create a version using \"Save & Run All\" \n",
    "# You can also write temporary files to /kaggle/temp/, but they won't be saved outside of the current session"
   ]
  },
  {
   "cell_type": "markdown",
   "id": "5cb90707",
   "metadata": {
    "papermill": {
     "duration": 0.00618,
     "end_time": "2025-05-23T19:34:37.310965",
     "exception": false,
     "start_time": "2025-05-23T19:34:37.304785",
     "status": "completed"
    },
    "tags": []
   },
   "source": [
    "# Data Science Project: Data Wrangling\n",
    "    Name : Shirleen Simon\n",
    "    Date : 23rd May 2025\n",
    "This project involves data cleaning and transformation of Netflix dataset from Kaggle.\n",
    "The various steps are : Discovery,Structuring,Cleaning,Enriching,Validating and lastly Publishing."
   ]
  },
  {
   "cell_type": "code",
   "execution_count": 2,
   "id": "cd405e41",
   "metadata": {
    "execution": {
     "iopub.execute_input": "2025-05-23T19:34:37.325291Z",
     "iopub.status.busy": "2025-05-23T19:34:37.324792Z",
     "iopub.status.idle": "2025-05-23T19:34:37.492449Z",
     "shell.execute_reply": "2025-05-23T19:34:37.491444Z"
    },
    "papermill": {
     "duration": 0.176854,
     "end_time": "2025-05-23T19:34:37.494283",
     "exception": false,
     "start_time": "2025-05-23T19:34:37.317429",
     "status": "completed"
    },
    "tags": []
   },
   "outputs": [],
   "source": [
    "import pandas as pd\n",
    "import numpy as np\n",
    "import datetime as dt\n",
    "\n",
    "# Import the data\n",
    "df = pd.read_csv('/kaggle/input/netflix-shows/netflix_titles.csv')\n"
   ]
  },
  {
   "cell_type": "markdown",
   "id": "b7b88f54",
   "metadata": {
    "papermill": {
     "duration": 0.006346,
     "end_time": "2025-05-23T19:34:37.507771",
     "exception": false,
     "start_time": "2025-05-23T19:34:37.501425",
     "status": "completed"
    },
    "tags": []
   },
   "source": [
    "# Step 1 : _Discovery_"
   ]
  },
  {
   "cell_type": "markdown",
   "id": "c06afb71",
   "metadata": {
    "papermill": {
     "duration": 0.006678,
     "end_time": "2025-05-23T19:34:37.521164",
     "exception": false,
     "start_time": "2025-05-23T19:34:37.514486",
     "status": "completed"
    },
    "tags": []
   },
   "source": [
    "The initial phase where you explore and understand the data to determine its structure, content, and quality"
   ]
  },
  {
   "cell_type": "code",
   "execution_count": 3,
   "id": "500806d5",
   "metadata": {
    "execution": {
     "iopub.execute_input": "2025-05-23T19:34:37.535622Z",
     "iopub.status.busy": "2025-05-23T19:34:37.535278Z",
     "iopub.status.idle": "2025-05-23T19:34:37.574636Z",
     "shell.execute_reply": "2025-05-23T19:34:37.573476Z"
    },
    "papermill": {
     "duration": 0.048484,
     "end_time": "2025-05-23T19:34:37.576246",
     "exception": false,
     "start_time": "2025-05-23T19:34:37.527762",
     "status": "completed"
    },
    "tags": []
   },
   "outputs": [
    {
     "name": "stdout",
     "output_type": "stream",
     "text": [
      "<class 'pandas.core.frame.DataFrame'>\n",
      "RangeIndex: 8807 entries, 0 to 8806\n",
      "Data columns (total 12 columns):\n",
      " #   Column        Non-Null Count  Dtype \n",
      "---  ------        --------------  ----- \n",
      " 0   show_id       8807 non-null   object\n",
      " 1   type          8807 non-null   object\n",
      " 2   title         8807 non-null   object\n",
      " 3   director      6173 non-null   object\n",
      " 4   cast          7982 non-null   object\n",
      " 5   country       7976 non-null   object\n",
      " 6   date_added    8797 non-null   object\n",
      " 7   release_year  8807 non-null   int64 \n",
      " 8   rating        8803 non-null   object\n",
      " 9   duration      8804 non-null   object\n",
      " 10  listed_in     8807 non-null   object\n",
      " 11  description   8807 non-null   object\n",
      "dtypes: int64(1), object(11)\n",
      "memory usage: 825.8+ KB\n"
     ]
    }
   ],
   "source": [
    "df.info()"
   ]
  },
  {
   "cell_type": "code",
   "execution_count": 4,
   "id": "630c229c",
   "metadata": {
    "execution": {
     "iopub.execute_input": "2025-05-23T19:34:37.591032Z",
     "iopub.status.busy": "2025-05-23T19:34:37.590658Z",
     "iopub.status.idle": "2025-05-23T19:34:37.595967Z",
     "shell.execute_reply": "2025-05-23T19:34:37.594902Z"
    },
    "papermill": {
     "duration": 0.014384,
     "end_time": "2025-05-23T19:34:37.597501",
     "exception": false,
     "start_time": "2025-05-23T19:34:37.583117",
     "status": "completed"
    },
    "tags": []
   },
   "outputs": [
    {
     "name": "stdout",
     "output_type": "stream",
     "text": [
      "Shape of the dataset (R x C): (8807, 12)\n"
     ]
    }
   ],
   "source": [
    "# Number of rows and columns\n",
    "print(\"Shape of the dataset (R x C):\", df.shape)"
   ]
  },
  {
   "cell_type": "code",
   "execution_count": 5,
   "id": "53717574",
   "metadata": {
    "execution": {
     "iopub.execute_input": "2025-05-23T19:34:37.614775Z",
     "iopub.status.busy": "2025-05-23T19:34:37.614410Z",
     "iopub.status.idle": "2025-05-23T19:34:37.620952Z",
     "shell.execute_reply": "2025-05-23T19:34:37.619870Z"
    },
    "papermill": {
     "duration": 0.018169,
     "end_time": "2025-05-23T19:34:37.623067",
     "exception": false,
     "start_time": "2025-05-23T19:34:37.604898",
     "status": "completed"
    },
    "tags": []
   },
   "outputs": [
    {
     "name": "stdout",
     "output_type": "stream",
     "text": [
      "Columns in the dataset:\n",
      " ['show_id', 'type', 'title', 'director', 'cast', 'country', 'date_added', 'release_year', 'rating', 'duration', 'listed_in', 'description']\n"
     ]
    }
   ],
   "source": [
    "# List of all column names\n",
    "print(\"Columns in the dataset:\\n\", df.columns.tolist())"
   ]
  },
  {
   "cell_type": "code",
   "execution_count": 6,
   "id": "7acdf8f3",
   "metadata": {
    "execution": {
     "iopub.execute_input": "2025-05-23T19:34:37.637945Z",
     "iopub.status.busy": "2025-05-23T19:34:37.637631Z",
     "iopub.status.idle": "2025-05-23T19:34:37.644515Z",
     "shell.execute_reply": "2025-05-23T19:34:37.643134Z"
    },
    "papermill": {
     "duration": 0.016424,
     "end_time": "2025-05-23T19:34:37.646318",
     "exception": false,
     "start_time": "2025-05-23T19:34:37.629894",
     "status": "completed"
    },
    "tags": []
   },
   "outputs": [
    {
     "name": "stdout",
     "output_type": "stream",
     "text": [
      "Data types:\n",
      " show_id         object\n",
      "type            object\n",
      "title           object\n",
      "director        object\n",
      "cast            object\n",
      "country         object\n",
      "date_added      object\n",
      "release_year     int64\n",
      "rating          object\n",
      "duration        object\n",
      "listed_in       object\n",
      "description     object\n",
      "dtype: object\n"
     ]
    }
   ],
   "source": [
    "# Data types of each column\n",
    "print(\"Data types:\\n\", df.dtypes)"
   ]
  },
  {
   "cell_type": "code",
   "execution_count": 7,
   "id": "28c13cd5",
   "metadata": {
    "execution": {
     "iopub.execute_input": "2025-05-23T19:34:37.662848Z",
     "iopub.status.busy": "2025-05-23T19:34:37.661759Z",
     "iopub.status.idle": "2025-05-23T19:34:37.675361Z",
     "shell.execute_reply": "2025-05-23T19:34:37.674239Z"
    },
    "papermill": {
     "duration": 0.023686,
     "end_time": "2025-05-23T19:34:37.676982",
     "exception": false,
     "start_time": "2025-05-23T19:34:37.653296",
     "status": "completed"
    },
    "tags": []
   },
   "outputs": [
    {
     "name": "stdout",
     "output_type": "stream",
     "text": [
      "Missing values per column:\n",
      " show_id            0\n",
      "type               0\n",
      "title              0\n",
      "director        2634\n",
      "cast             825\n",
      "country          831\n",
      "date_added        10\n",
      "release_year       0\n",
      "rating             4\n",
      "duration           3\n",
      "listed_in          0\n",
      "description        0\n",
      "dtype: int64\n"
     ]
    }
   ],
   "source": [
    "# Group and Count of missing (null) values in each column\n",
    "print(\"Missing values per column:\\n\", df.isnull().sum())"
   ]
  },
  {
   "cell_type": "code",
   "execution_count": 8,
   "id": "fed611b2",
   "metadata": {
    "execution": {
     "iopub.execute_input": "2025-05-23T19:34:37.692576Z",
     "iopub.status.busy": "2025-05-23T19:34:37.692254Z",
     "iopub.status.idle": "2025-05-23T19:34:37.715652Z",
     "shell.execute_reply": "2025-05-23T19:34:37.714471Z"
    },
    "papermill": {
     "duration": 0.032995,
     "end_time": "2025-05-23T19:34:37.717354",
     "exception": false,
     "start_time": "2025-05-23T19:34:37.684359",
     "status": "completed"
    },
    "tags": []
   },
   "outputs": [
    {
     "name": "stdout",
     "output_type": "stream",
     "text": [
      "Number of duplicate rows: 0\n"
     ]
    }
   ],
   "source": [
    "# Group and Count of duplicate rows\n",
    "print(\"Number of duplicate rows:\", df.duplicated().sum())"
   ]
  },
  {
   "cell_type": "markdown",
   "id": "41f50306",
   "metadata": {
    "papermill": {
     "duration": 0.007087,
     "end_time": "2025-05-23T19:34:37.731225",
     "exception": false,
     "start_time": "2025-05-23T19:34:37.724138",
     "status": "completed"
    },
    "tags": []
   },
   "source": [
    "# Step 2: _Structuring_"
   ]
  },
  {
   "cell_type": "markdown",
   "id": "c594170d",
   "metadata": {
    "papermill": {
     "duration": 0.007083,
     "end_time": "2025-05-23T19:34:37.745283",
     "exception": false,
     "start_time": "2025-05-23T19:34:37.738200",
     "status": "completed"
    },
    "tags": []
   },
   "source": [
    "It involves transforming raw data into a consistent and usable format for analysis."
   ]
  },
  {
   "cell_type": "code",
   "execution_count": 9,
   "id": "7718182a",
   "metadata": {
    "execution": {
     "iopub.execute_input": "2025-05-23T19:34:37.760574Z",
     "iopub.status.busy": "2025-05-23T19:34:37.760259Z",
     "iopub.status.idle": "2025-05-23T19:34:37.894818Z",
     "shell.execute_reply": "2025-05-23T19:34:37.893679Z"
    },
    "papermill": {
     "duration": 0.144683,
     "end_time": "2025-05-23T19:34:37.896765",
     "exception": false,
     "start_time": "2025-05-23T19:34:37.752082",
     "status": "completed"
    },
    "tags": []
   },
   "outputs": [],
   "source": [
    "# Convert 'date_added' to datetime\n",
    "df['date_added'] = pd.to_datetime(df['date_added'],format='mixed')"
   ]
  },
  {
   "cell_type": "code",
   "execution_count": 10,
   "id": "0c0137fd",
   "metadata": {
    "execution": {
     "iopub.execute_input": "2025-05-23T19:34:37.912212Z",
     "iopub.status.busy": "2025-05-23T19:34:37.911864Z",
     "iopub.status.idle": "2025-05-23T19:34:37.932633Z",
     "shell.execute_reply": "2025-05-23T19:34:37.931404Z"
    },
    "papermill": {
     "duration": 0.030412,
     "end_time": "2025-05-23T19:34:37.934276",
     "exception": false,
     "start_time": "2025-05-23T19:34:37.903864",
     "status": "completed"
    },
    "tags": []
   },
   "outputs": [],
   "source": [
    "# Separate 'duration' into numeric value and unit (e.g., '90 min' → 90, 'min')\n",
    "df[['duration_value', 'duration_unit']] = df['duration'].str.extract(r'(\\d+)\\s*(\\w+)')"
   ]
  },
  {
   "cell_type": "code",
   "execution_count": 11,
   "id": "f11ed701",
   "metadata": {
    "execution": {
     "iopub.execute_input": "2025-05-23T19:34:37.949713Z",
     "iopub.status.busy": "2025-05-23T19:34:37.949349Z",
     "iopub.status.idle": "2025-05-23T19:34:37.959922Z",
     "shell.execute_reply": "2025-05-23T19:34:37.958673Z"
    },
    "papermill": {
     "duration": 0.020602,
     "end_time": "2025-05-23T19:34:37.961869",
     "exception": false,
     "start_time": "2025-05-23T19:34:37.941267",
     "status": "completed"
    },
    "tags": []
   },
   "outputs": [],
   "source": [
    "# Convert duration_value to numeric\n",
    "df['duration_value'] = pd.to_numeric(df['duration_value'])"
   ]
  },
  {
   "cell_type": "code",
   "execution_count": 12,
   "id": "302dcc00",
   "metadata": {
    "execution": {
     "iopub.execute_input": "2025-05-23T19:34:37.977348Z",
     "iopub.status.busy": "2025-05-23T19:34:37.976880Z",
     "iopub.status.idle": "2025-05-23T19:34:37.995078Z",
     "shell.execute_reply": "2025-05-23T19:34:37.993997Z"
    },
    "papermill": {
     "duration": 0.027706,
     "end_time": "2025-05-23T19:34:37.996724",
     "exception": false,
     "start_time": "2025-05-23T19:34:37.969018",
     "status": "completed"
    },
    "tags": []
   },
   "outputs": [
    {
     "name": "stdout",
     "output_type": "stream",
     "text": [
      "      duration_value duration_unit\n",
      "0               90.0           min\n",
      "1                2.0       Seasons\n",
      "2                1.0        Season\n",
      "3                1.0        Season\n",
      "4                2.0       Seasons\n",
      "...              ...           ...\n",
      "8802           158.0           min\n",
      "8803             2.0       Seasons\n",
      "8804            88.0           min\n",
      "8805            88.0           min\n",
      "8806           111.0           min\n",
      "\n",
      "[8807 rows x 2 columns]\n"
     ]
    }
   ],
   "source": [
    "# View Resulting columns\n",
    "print(df[['duration_value', 'duration_unit']])"
   ]
  },
  {
   "cell_type": "markdown",
   "id": "c101022b",
   "metadata": {
    "papermill": {
     "duration": 0.007066,
     "end_time": "2025-05-23T19:34:38.011232",
     "exception": false,
     "start_time": "2025-05-23T19:34:38.004166",
     "status": "completed"
    },
    "tags": []
   },
   "source": [
    "# Step 3: _Cleaning_"
   ]
  },
  {
   "cell_type": "markdown",
   "id": "3491ad8b",
   "metadata": {
    "papermill": {
     "duration": 0.006642,
     "end_time": "2025-05-23T19:34:38.024710",
     "exception": false,
     "start_time": "2025-05-23T19:34:38.018068",
     "status": "completed"
    },
    "tags": []
   },
   "source": [
    "Involves improving data quality by correcting errors, inconsistencies, and missing values"
   ]
  },
  {
   "cell_type": "code",
   "execution_count": 13,
   "id": "32199be2",
   "metadata": {
    "execution": {
     "iopub.execute_input": "2025-05-23T19:34:38.040040Z",
     "iopub.status.busy": "2025-05-23T19:34:38.039736Z",
     "iopub.status.idle": "2025-05-23T19:34:38.062621Z",
     "shell.execute_reply": "2025-05-23T19:34:38.061471Z"
    },
    "papermill": {
     "duration": 0.033045,
     "end_time": "2025-05-23T19:34:38.064556",
     "exception": false,
     "start_time": "2025-05-23T19:34:38.031511",
     "status": "completed"
    },
    "tags": []
   },
   "outputs": [
    {
     "name": "stdout",
     "output_type": "stream",
     "text": [
      "Duplicate rows before: 0\n"
     ]
    }
   ],
   "source": [
    "# Check for duplicate rows\n",
    "print(\"Duplicate rows before:\", df.duplicated().sum())"
   ]
  },
  {
   "cell_type": "code",
   "execution_count": 14,
   "id": "3736a900",
   "metadata": {
    "execution": {
     "iopub.execute_input": "2025-05-23T19:34:38.080127Z",
     "iopub.status.busy": "2025-05-23T19:34:38.079815Z",
     "iopub.status.idle": "2025-05-23T19:34:38.105099Z",
     "shell.execute_reply": "2025-05-23T19:34:38.104106Z"
    },
    "papermill": {
     "duration": 0.035246,
     "end_time": "2025-05-23T19:34:38.107068",
     "exception": false,
     "start_time": "2025-05-23T19:34:38.071822",
     "status": "completed"
    },
    "tags": []
   },
   "outputs": [],
   "source": [
    "# Drop duplicate rows if any\n",
    "df = df.drop_duplicates()"
   ]
  },
  {
   "cell_type": "code",
   "execution_count": 15,
   "id": "96d394ff",
   "metadata": {
    "execution": {
     "iopub.execute_input": "2025-05-23T19:34:38.123119Z",
     "iopub.status.busy": "2025-05-23T19:34:38.122798Z",
     "iopub.status.idle": "2025-05-23T19:34:38.130792Z",
     "shell.execute_reply": "2025-05-23T19:34:38.129681Z"
    },
    "papermill": {
     "duration": 0.018473,
     "end_time": "2025-05-23T19:34:38.132556",
     "exception": false,
     "start_time": "2025-05-23T19:34:38.114083",
     "status": "completed"
    },
    "tags": []
   },
   "outputs": [],
   "source": [
    "# Drop description column because it will not be used\n",
    "df = df.drop(columns=['description'])"
   ]
  },
  {
   "cell_type": "code",
   "execution_count": 16,
   "id": "2a76ba96",
   "metadata": {
    "execution": {
     "iopub.execute_input": "2025-05-23T19:34:38.149585Z",
     "iopub.status.busy": "2025-05-23T19:34:38.148459Z",
     "iopub.status.idle": "2025-05-23T19:34:38.153768Z",
     "shell.execute_reply": "2025-05-23T19:34:38.152378Z"
    },
    "papermill": {
     "duration": 0.016148,
     "end_time": "2025-05-23T19:34:38.155878",
     "exception": false,
     "start_time": "2025-05-23T19:34:38.139730",
     "status": "completed"
    },
    "tags": []
   },
   "outputs": [],
   "source": [
    "# Impute Director values by using relationship between cast and director"
   ]
  },
  {
   "cell_type": "code",
   "execution_count": 17,
   "id": "7d79b854",
   "metadata": {
    "execution": {
     "iopub.execute_input": "2025-05-23T19:34:38.171678Z",
     "iopub.status.busy": "2025-05-23T19:34:38.171307Z",
     "iopub.status.idle": "2025-05-23T19:34:38.214200Z",
     "shell.execute_reply": "2025-05-23T19:34:38.213204Z"
    },
    "papermill": {
     "duration": 0.05286,
     "end_time": "2025-05-23T19:34:38.216026",
     "exception": false,
     "start_time": "2025-05-23T19:34:38.163166",
     "status": "completed"
    },
    "tags": []
   },
   "outputs": [],
   "source": [
    "# List of Director-Cast pairs and the number of times they appear\n",
    "df['dir_cast'] = df['director'] + '---' + df['cast']\n",
    "counts = df['dir_cast'].value_counts() #counts unique values\n",
    "filtered_counts = counts[counts >= 3] #checks if repeated 3 or more times\n",
    "filtered_values = filtered_counts.index #gets the values i.e. names\n",
    "lst_dir_cast = list(filtered_values) #convert to list\n",
    "dict_direcast = dict()\n",
    "for i in lst_dir_cast:\n",
    "    director, cast = i.split('---')\n",
    "    dict_direcast[director] = cast\n",
    "\n",
    "for i in range(len(dict_direcast)): \n",
    "    df.loc[(df['director'].isna()) & (df['cast'] == list(dict_direcast.items())[i][1]),'director'] = list(dict_direcast.items())[i][0]"
   ]
  },
  {
   "cell_type": "code",
   "execution_count": 18,
   "id": "bbd818ee",
   "metadata": {
    "execution": {
     "iopub.execute_input": "2025-05-23T19:34:38.232287Z",
     "iopub.status.busy": "2025-05-23T19:34:38.231927Z",
     "iopub.status.idle": "2025-05-23T19:34:38.238169Z",
     "shell.execute_reply": "2025-05-23T19:34:38.237268Z"
    },
    "papermill": {
     "duration": 0.016637,
     "end_time": "2025-05-23T19:34:38.239871",
     "exception": false,
     "start_time": "2025-05-23T19:34:38.223234",
     "status": "completed"
    },
    "tags": []
   },
   "outputs": [],
   "source": [
    "# Assign Not Given to all other director fields\n",
    "df.loc[df['director'].isna(),'director'] = 'Not Given'\n"
   ]
  },
  {
   "cell_type": "code",
   "execution_count": 19,
   "id": "97a0c34f",
   "metadata": {
    "execution": {
     "iopub.execute_input": "2025-05-23T19:34:38.255564Z",
     "iopub.status.busy": "2025-05-23T19:34:38.255253Z",
     "iopub.status.idle": "2025-05-23T19:34:38.264421Z",
     "shell.execute_reply": "2025-05-23T19:34:38.263470Z"
    },
    "papermill": {
     "duration": 0.019319,
     "end_time": "2025-05-23T19:34:38.266113",
     "exception": false,
     "start_time": "2025-05-23T19:34:38.246794",
     "status": "completed"
    },
    "tags": []
   },
   "outputs": [],
   "source": [
    "#Use directors to fill missing countries\n",
    "directors = df['director']\n",
    "countries = df['country']\n",
    "#pair each director with their country use zip() to get an iterator of tuples\n",
    "pairs = zip(directors, countries)\n",
    "# Convert the list of tuples into a dictionary\n",
    "dir_cntry = dict(list(pairs))"
   ]
  },
  {
   "cell_type": "code",
   "execution_count": 20,
   "id": "b8a6c86a",
   "metadata": {
    "execution": {
     "iopub.execute_input": "2025-05-23T19:34:38.282521Z",
     "iopub.status.busy": "2025-05-23T19:34:38.282219Z",
     "iopub.status.idle": "2025-05-23T19:34:46.158840Z",
     "shell.execute_reply": "2025-05-23T19:34:46.157870Z"
    },
    "papermill": {
     "duration": 7.887281,
     "end_time": "2025-05-23T19:34:46.160676",
     "exception": false,
     "start_time": "2025-05-23T19:34:38.273395",
     "status": "completed"
    },
    "tags": []
   },
   "outputs": [],
   "source": [
    "# Director matched to Country values used to fill in null country values\n",
    "for director, country in dir_cntry.items():\n",
    "    df.loc[(df['country'].isna()) & (df['director'] == director), 'country'] = country\n",
    "# Assign Not Given to all other country fields\n",
    "df.loc[df['country'].isna(), 'country'] = 'Not Given'"
   ]
  },
  {
   "cell_type": "code",
   "execution_count": 21,
   "id": "76b7ed6d",
   "metadata": {
    "execution": {
     "iopub.execute_input": "2025-05-23T19:34:46.176919Z",
     "iopub.status.busy": "2025-05-23T19:34:46.176527Z",
     "iopub.status.idle": "2025-05-23T19:34:46.183473Z",
     "shell.execute_reply": "2025-05-23T19:34:46.182413Z"
    },
    "papermill": {
     "duration": 0.016889,
     "end_time": "2025-05-23T19:34:46.185279",
     "exception": false,
     "start_time": "2025-05-23T19:34:46.168390",
     "status": "completed"
    },
    "tags": []
   },
   "outputs": [],
   "source": [
    "df.loc[df['cast'].isna(), 'cast'] = 'Not Given'\n"
   ]
  },
  {
   "cell_type": "code",
   "execution_count": 22,
   "id": "3efcbd5e",
   "metadata": {
    "execution": {
     "iopub.execute_input": "2025-05-23T19:34:46.268813Z",
     "iopub.status.busy": "2025-05-23T19:34:46.268484Z",
     "iopub.status.idle": "2025-05-23T19:34:46.288866Z",
     "shell.execute_reply": "2025-05-23T19:34:46.287882Z"
    },
    "papermill": {
     "duration": 0.030047,
     "end_time": "2025-05-23T19:34:46.290540",
     "exception": false,
     "start_time": "2025-05-23T19:34:46.260493",
     "status": "completed"
    },
    "tags": []
   },
   "outputs": [],
   "source": [
    "# dropping other row records that are null\n",
    "df.drop(df[df['date_added'].isna()].index,axis=0,inplace=True)\n",
    "df.drop(df[df['rating'].isna()].index,axis=0,inplace=True)\n",
    "df.drop(df[df['duration'].isna()].index,axis=0,inplace=True)"
   ]
  },
  {
   "cell_type": "markdown",
   "id": "7aebf781",
   "metadata": {
    "papermill": {
     "duration": 0.006654,
     "end_time": "2025-05-23T19:34:46.304514",
     "exception": false,
     "start_time": "2025-05-23T19:34:46.297860",
     "status": "completed"
    },
    "tags": []
   },
   "source": [
    "# Step 4: _Error_ / _Enriching_"
   ]
  },
  {
   "cell_type": "markdown",
   "id": "724e1d97",
   "metadata": {
    "papermill": {
     "duration": 0.006591,
     "end_time": "2025-05-23T19:34:46.318106",
     "exception": false,
     "start_time": "2025-05-23T19:34:46.311515",
     "status": "completed"
    },
    "tags": []
   },
   "source": [
    "During this process, errors and outliers that come with raw data are identified, corrected, and removed.After data is explored and processed, it needs to be enriched-the process of enhancing, refining, and improving raw data."
   ]
  },
  {
   "cell_type": "markdown",
   "id": "1fe2f3e5",
   "metadata": {
    "papermill": {
     "duration": 0.006626,
     "end_time": "2025-05-23T19:34:46.331719",
     "exception": false,
     "start_time": "2025-05-23T19:34:46.325093",
     "status": "completed"
    },
    "tags": []
   },
   "source": [
    "<details>\n",
    "<summary>Click to expand manual revert steps</summary>\n",
    "\n",
    "```python\n",
    "# Step 1: Identify indices\n",
    "reverted_indices = [1551, 1696, 2920, 3168, 3954, 4054, 4381, 4412, 4467, 4491, 4541, 4543, 4568, 4577]\n",
    "\n",
    "# Step 2: Revert changes\n",
    "df.loc[reverted_indices, 'release_year'] = df.loc[reverted_indices, 'date_added'].dt.year + 1\n",
    "\n",
    "# Step 3: Confirm inconsistencies are back\n",
    "print(\"Inconsistent count after revert:\", sum(df['date_added'].dt.year < df['release_year']))\n"
   ]
  },
  {
   "cell_type": "code",
   "execution_count": 23,
   "id": "43a99721",
   "metadata": {
    "execution": {
     "iopub.execute_input": "2025-05-23T19:34:46.347161Z",
     "iopub.status.busy": "2025-05-23T19:34:46.346843Z",
     "iopub.status.idle": "2025-05-23T19:34:46.356641Z",
     "shell.execute_reply": "2025-05-23T19:34:46.355384Z"
    },
    "papermill": {
     "duration": 0.019748,
     "end_time": "2025-05-23T19:34:46.358287",
     "exception": false,
     "start_time": "2025-05-23T19:34:46.338539",
     "status": "completed"
    },
    "tags": []
   },
   "outputs": [
    {
     "data": {
      "text/plain": [
       "14"
      ]
     },
     "execution_count": 23,
     "metadata": {},
     "output_type": "execute_result"
    }
   ],
   "source": [
    "# check if there are any added_dates that come before release_year\n",
    "import datetime as dt\n",
    "sum(df['date_added'].dt.year < df['release_year'])"
   ]
  },
  {
   "cell_type": "code",
   "execution_count": 24,
   "id": "a7055532",
   "metadata": {
    "execution": {
     "iopub.execute_input": "2025-05-23T19:34:46.374325Z",
     "iopub.status.busy": "2025-05-23T19:34:46.373844Z",
     "iopub.status.idle": "2025-05-23T19:34:46.395617Z",
     "shell.execute_reply": "2025-05-23T19:34:46.394686Z"
    },
    "papermill": {
     "duration": 0.031729,
     "end_time": "2025-05-23T19:34:46.397249",
     "exception": false,
     "start_time": "2025-05-23T19:34:46.365520",
     "status": "completed"
    },
    "tags": []
   },
   "outputs": [
    {
     "data": {
      "text/html": [
       "<div>\n",
       "<style scoped>\n",
       "    .dataframe tbody tr th:only-of-type {\n",
       "        vertical-align: middle;\n",
       "    }\n",
       "\n",
       "    .dataframe tbody tr th {\n",
       "        vertical-align: top;\n",
       "    }\n",
       "\n",
       "    .dataframe thead th {\n",
       "        text-align: right;\n",
       "    }\n",
       "</style>\n",
       "<table border=\"1\" class=\"dataframe\">\n",
       "  <thead>\n",
       "    <tr style=\"text-align: right;\">\n",
       "      <th></th>\n",
       "      <th>title</th>\n",
       "      <th>date_added</th>\n",
       "      <th>release_year</th>\n",
       "    </tr>\n",
       "  </thead>\n",
       "  <tbody>\n",
       "    <tr>\n",
       "      <th>1551</th>\n",
       "      <td>Hilda</td>\n",
       "      <td>2020-12-14</td>\n",
       "      <td>2021</td>\n",
       "    </tr>\n",
       "    <tr>\n",
       "      <th>1696</th>\n",
       "      <td>Polly Pocket</td>\n",
       "      <td>2020-11-15</td>\n",
       "      <td>2021</td>\n",
       "    </tr>\n",
       "    <tr>\n",
       "      <th>2920</th>\n",
       "      <td>Love Is Blind</td>\n",
       "      <td>2020-02-13</td>\n",
       "      <td>2021</td>\n",
       "    </tr>\n",
       "    <tr>\n",
       "      <th>3168</th>\n",
       "      <td>Fuller House</td>\n",
       "      <td>2019-12-06</td>\n",
       "      <td>2020</td>\n",
       "    </tr>\n",
       "    <tr>\n",
       "      <th>3287</th>\n",
       "      <td>Maradona in Mexico</td>\n",
       "      <td>2019-11-13</td>\n",
       "      <td>2020</td>\n",
       "    </tr>\n",
       "    <tr>\n",
       "      <th>3369</th>\n",
       "      <td>BoJack Horseman</td>\n",
       "      <td>2019-10-25</td>\n",
       "      <td>2020</td>\n",
       "    </tr>\n",
       "    <tr>\n",
       "      <th>3433</th>\n",
       "      <td>The Hook Up Plan</td>\n",
       "      <td>2019-10-11</td>\n",
       "      <td>2020</td>\n",
       "    </tr>\n",
       "    <tr>\n",
       "      <th>4844</th>\n",
       "      <td>Unbreakable Kimmy Schmidt</td>\n",
       "      <td>2018-05-30</td>\n",
       "      <td>2019</td>\n",
       "    </tr>\n",
       "    <tr>\n",
       "      <th>4845</th>\n",
       "      <td>Arrested Development</td>\n",
       "      <td>2018-05-29</td>\n",
       "      <td>2019</td>\n",
       "    </tr>\n",
       "    <tr>\n",
       "      <th>5394</th>\n",
       "      <td>Hans Teeuwen: Real Rancour</td>\n",
       "      <td>2017-07-01</td>\n",
       "      <td>2018</td>\n",
       "    </tr>\n",
       "    <tr>\n",
       "      <th>5658</th>\n",
       "      <td>Sense8</td>\n",
       "      <td>2016-12-23</td>\n",
       "      <td>2018</td>\n",
       "    </tr>\n",
       "    <tr>\n",
       "      <th>5677</th>\n",
       "      <td>Tokyo Trial</td>\n",
       "      <td>2016-12-13</td>\n",
       "      <td>2017</td>\n",
       "    </tr>\n",
       "    <tr>\n",
       "      <th>7063</th>\n",
       "      <td>Incoming</td>\n",
       "      <td>2018-10-26</td>\n",
       "      <td>2019</td>\n",
       "    </tr>\n",
       "    <tr>\n",
       "      <th>7112</th>\n",
       "      <td>Jack Taylor</td>\n",
       "      <td>2013-03-31</td>\n",
       "      <td>2016</td>\n",
       "    </tr>\n",
       "  </tbody>\n",
       "</table>\n",
       "</div>"
      ],
      "text/plain": [
       "                           title date_added  release_year\n",
       "1551                       Hilda 2020-12-14          2021\n",
       "1696                Polly Pocket 2020-11-15          2021\n",
       "2920               Love Is Blind 2020-02-13          2021\n",
       "3168                Fuller House 2019-12-06          2020\n",
       "3287          Maradona in Mexico 2019-11-13          2020\n",
       "3369             BoJack Horseman 2019-10-25          2020\n",
       "3433            The Hook Up Plan 2019-10-11          2020\n",
       "4844   Unbreakable Kimmy Schmidt 2018-05-30          2019\n",
       "4845        Arrested Development 2018-05-29          2019\n",
       "5394  Hans Teeuwen: Real Rancour 2017-07-01          2018\n",
       "5658                      Sense8 2016-12-23          2018\n",
       "5677                 Tokyo Trial 2016-12-13          2017\n",
       "7063                    Incoming 2018-10-26          2019\n",
       "7112                 Jack Taylor 2013-03-31          2016"
      ]
     },
     "execution_count": 24,
     "metadata": {},
     "output_type": "execute_result"
    }
   ],
   "source": [
    "# View any added_dates that come before release_year\n",
    "sum(df['date_added'].dt.year < df['release_year'])\n",
    "df.loc[df['date_added'].dt.year < df['release_year'], ['title', 'date_added', 'release_year']]\n"
   ]
  },
  {
   "cell_type": "code",
   "execution_count": 25,
   "id": "c6420e58",
   "metadata": {
    "execution": {
     "iopub.execute_input": "2025-05-23T19:34:46.413568Z",
     "iopub.status.busy": "2025-05-23T19:34:46.413274Z",
     "iopub.status.idle": "2025-05-23T19:34:46.421113Z",
     "shell.execute_reply": "2025-05-23T19:34:46.420278Z"
    },
    "papermill": {
     "duration": 0.018119,
     "end_time": "2025-05-23T19:34:46.422883",
     "exception": false,
     "start_time": "2025-05-23T19:34:46.404764",
     "status": "completed"
    },
    "tags": []
   },
   "outputs": [],
   "source": [
    "# Fix: set release_year to date_added year where date_added < release_year\n",
    "mask = df['date_added'].dt.year < df['release_year']\n",
    "df.loc[mask, 'release_year'] = df.loc[mask, 'date_added'].dt.year"
   ]
  },
  {
   "cell_type": "code",
   "execution_count": 26,
   "id": "13db9259",
   "metadata": {
    "execution": {
     "iopub.execute_input": "2025-05-23T19:34:46.438955Z",
     "iopub.status.busy": "2025-05-23T19:34:46.438652Z",
     "iopub.status.idle": "2025-05-23T19:34:46.455342Z",
     "shell.execute_reply": "2025-05-23T19:34:46.454134Z"
    },
    "papermill": {
     "duration": 0.02735,
     "end_time": "2025-05-23T19:34:46.457680",
     "exception": false,
     "start_time": "2025-05-23T19:34:46.430330",
     "status": "completed"
    },
    "tags": []
   },
   "outputs": [
    {
     "data": {
      "text/html": [
       "<div>\n",
       "<style scoped>\n",
       "    .dataframe tbody tr th:only-of-type {\n",
       "        vertical-align: middle;\n",
       "    }\n",
       "\n",
       "    .dataframe tbody tr th {\n",
       "        vertical-align: top;\n",
       "    }\n",
       "\n",
       "    .dataframe thead th {\n",
       "        text-align: right;\n",
       "    }\n",
       "</style>\n",
       "<table border=\"1\" class=\"dataframe\">\n",
       "  <thead>\n",
       "    <tr style=\"text-align: right;\">\n",
       "      <th></th>\n",
       "      <th>show_id</th>\n",
       "      <th>type</th>\n",
       "      <th>title</th>\n",
       "      <th>director</th>\n",
       "      <th>cast</th>\n",
       "      <th>country</th>\n",
       "      <th>date_added</th>\n",
       "      <th>release_year</th>\n",
       "      <th>rating</th>\n",
       "      <th>duration</th>\n",
       "      <th>listed_in</th>\n",
       "      <th>duration_value</th>\n",
       "      <th>duration_unit</th>\n",
       "      <th>dir_cast</th>\n",
       "    </tr>\n",
       "  </thead>\n",
       "  <tbody>\n",
       "    <tr>\n",
       "      <th>1551</th>\n",
       "      <td>s1552</td>\n",
       "      <td>TV Show</td>\n",
       "      <td>Hilda</td>\n",
       "      <td>Not Given</td>\n",
       "      <td>Bella Ramsey, Ameerah Falzon-Ojo, Oliver Nelso...</td>\n",
       "      <td>United Kingdom, Canada, United States</td>\n",
       "      <td>2020-12-14</td>\n",
       "      <td>2020</td>\n",
       "      <td>TV-Y7</td>\n",
       "      <td>2 Seasons</td>\n",
       "      <td>Kids' TV</td>\n",
       "      <td>2.0</td>\n",
       "      <td>Seasons</td>\n",
       "      <td>NaN</td>\n",
       "    </tr>\n",
       "    <tr>\n",
       "      <th>1696</th>\n",
       "      <td>s1697</td>\n",
       "      <td>TV Show</td>\n",
       "      <td>Polly Pocket</td>\n",
       "      <td>Not Given</td>\n",
       "      <td>Emily Tennant, Shannon Chan-Kent, Kazumi Evans...</td>\n",
       "      <td>Canada, United States, Ireland</td>\n",
       "      <td>2020-11-15</td>\n",
       "      <td>2020</td>\n",
       "      <td>TV-Y</td>\n",
       "      <td>2 Seasons</td>\n",
       "      <td>Kids' TV</td>\n",
       "      <td>2.0</td>\n",
       "      <td>Seasons</td>\n",
       "      <td>NaN</td>\n",
       "    </tr>\n",
       "    <tr>\n",
       "      <th>2920</th>\n",
       "      <td>s2921</td>\n",
       "      <td>TV Show</td>\n",
       "      <td>Love Is Blind</td>\n",
       "      <td>Not Given</td>\n",
       "      <td>Nick Lachey, Vanessa Lachey</td>\n",
       "      <td>United States</td>\n",
       "      <td>2020-02-13</td>\n",
       "      <td>2020</td>\n",
       "      <td>TV-MA</td>\n",
       "      <td>1 Season</td>\n",
       "      <td>Reality TV, Romantic TV Shows</td>\n",
       "      <td>1.0</td>\n",
       "      <td>Season</td>\n",
       "      <td>NaN</td>\n",
       "    </tr>\n",
       "    <tr>\n",
       "      <th>3168</th>\n",
       "      <td>s3169</td>\n",
       "      <td>TV Show</td>\n",
       "      <td>Fuller House</td>\n",
       "      <td>Not Given</td>\n",
       "      <td>Candace Cameron Bure, Jodie Sweetin, Andrea Ba...</td>\n",
       "      <td>United States</td>\n",
       "      <td>2019-12-06</td>\n",
       "      <td>2019</td>\n",
       "      <td>TV-PG</td>\n",
       "      <td>5 Seasons</td>\n",
       "      <td>TV Comedies</td>\n",
       "      <td>5.0</td>\n",
       "      <td>Seasons</td>\n",
       "      <td>NaN</td>\n",
       "    </tr>\n",
       "  </tbody>\n",
       "</table>\n",
       "</div>"
      ],
      "text/plain": [
       "     show_id     type          title   director  \\\n",
       "1551   s1552  TV Show          Hilda  Not Given   \n",
       "1696   s1697  TV Show   Polly Pocket  Not Given   \n",
       "2920   s2921  TV Show  Love Is Blind  Not Given   \n",
       "3168   s3169  TV Show   Fuller House  Not Given   \n",
       "\n",
       "                                                   cast  \\\n",
       "1551  Bella Ramsey, Ameerah Falzon-Ojo, Oliver Nelso...   \n",
       "1696  Emily Tennant, Shannon Chan-Kent, Kazumi Evans...   \n",
       "2920                        Nick Lachey, Vanessa Lachey   \n",
       "3168  Candace Cameron Bure, Jodie Sweetin, Andrea Ba...   \n",
       "\n",
       "                                    country date_added  release_year rating  \\\n",
       "1551  United Kingdom, Canada, United States 2020-12-14          2020  TV-Y7   \n",
       "1696         Canada, United States, Ireland 2020-11-15          2020   TV-Y   \n",
       "2920                          United States 2020-02-13          2020  TV-MA   \n",
       "3168                          United States 2019-12-06          2019  TV-PG   \n",
       "\n",
       "       duration                      listed_in  duration_value duration_unit  \\\n",
       "1551  2 Seasons                       Kids' TV             2.0       Seasons   \n",
       "1696  2 Seasons                       Kids' TV             2.0       Seasons   \n",
       "2920   1 Season  Reality TV, Romantic TV Shows             1.0        Season   \n",
       "3168  5 Seasons                    TV Comedies             5.0       Seasons   \n",
       "\n",
       "     dir_cast  \n",
       "1551      NaN  \n",
       "1696      NaN  \n",
       "2920      NaN  \n",
       "3168      NaN  "
      ]
     },
     "execution_count": 26,
     "metadata": {},
     "output_type": "execute_result"
    }
   ],
   "source": [
    "# sample some of the records and check that they have been accurately replaced\n",
    "df.iloc[[1551,1696,2920,3168]]"
   ]
  },
  {
   "cell_type": "code",
   "execution_count": 27,
   "id": "c7a728ce",
   "metadata": {
    "execution": {
     "iopub.execute_input": "2025-05-23T19:34:46.475410Z",
     "iopub.status.busy": "2025-05-23T19:34:46.475104Z",
     "iopub.status.idle": "2025-05-23T19:34:46.482941Z",
     "shell.execute_reply": "2025-05-23T19:34:46.482095Z"
    },
    "papermill": {
     "duration": 0.018147,
     "end_time": "2025-05-23T19:34:46.484460",
     "exception": false,
     "start_time": "2025-05-23T19:34:46.466313",
     "status": "completed"
    },
    "tags": []
   },
   "outputs": [
    {
     "data": {
      "text/plain": [
       "0"
      ]
     },
     "execution_count": 27,
     "metadata": {},
     "output_type": "execute_result"
    }
   ],
   "source": [
    "#Confirm that no more release_year inconsistencies\n",
    "sum(df['date_added'].dt.year < df['release_year'])"
   ]
  },
  {
   "cell_type": "markdown",
   "id": "e99b6808",
   "metadata": {
    "papermill": {
     "duration": 0.007363,
     "end_time": "2025-05-23T19:34:46.499998",
     "exception": false,
     "start_time": "2025-05-23T19:34:46.492635",
     "status": "completed"
    },
    "tags": []
   },
   "source": [
    "# Step 5 : _Validate_"
   ]
  },
  {
   "cell_type": "markdown",
   "id": "baddea87",
   "metadata": {
    "papermill": {
     "duration": 0.008023,
     "end_time": "2025-05-23T19:34:46.517916",
     "exception": false,
     "start_time": "2025-05-23T19:34:46.509893",
     "status": "completed"
    },
    "tags": []
   },
   "source": [
    " The process of verifying that data adheres to predefined rules, standards, and expectations."
   ]
  },
  {
   "cell_type": "code",
   "execution_count": 28,
   "id": "0dc8703e",
   "metadata": {
    "execution": {
     "iopub.execute_input": "2025-05-23T19:34:46.535054Z",
     "iopub.status.busy": "2025-05-23T19:34:46.534170Z",
     "iopub.status.idle": "2025-05-23T19:34:46.566272Z",
     "shell.execute_reply": "2025-05-23T19:34:46.564636Z"
    },
    "papermill": {
     "duration": 0.042476,
     "end_time": "2025-05-23T19:34:46.567952",
     "exception": false,
     "start_time": "2025-05-23T19:34:46.525476",
     "status": "completed"
    },
    "tags": []
   },
   "outputs": [
    {
     "name": "stdout",
     "output_type": "stream",
     "text": [
      "show_id                   object\n",
      "type                      object\n",
      "title                     object\n",
      "director                  object\n",
      "cast                      object\n",
      "country                   object\n",
      "date_added        datetime64[ns]\n",
      "release_year               int64\n",
      "rating                    object\n",
      "duration                  object\n",
      "listed_in                 object\n",
      "duration_value           float64\n",
      "duration_unit             object\n",
      "dir_cast                  object\n",
      "dtype: object\n",
      "show_id           0\n",
      "type              0\n",
      "title             0\n",
      "director          0\n",
      "cast              0\n",
      "country           0\n",
      "date_added        0\n",
      "release_year      0\n",
      "rating            0\n",
      "duration          0\n",
      "listed_in         0\n",
      "duration_value    0\n",
      "duration_unit     0\n",
      "dir_cast          0\n",
      "dtype: int64\n",
      "     show_id   type                                title          director  \\\n",
      "7         s8  Movie                              Sankofa      Haile Gerima   \n",
      "22       s23  Movie                      Avvai Shanmughi    K.S. Ravikumar   \n",
      "41       s42  Movie                                 Jaws  Steven Spielberg   \n",
      "42       s43  Movie                               Jaws 2    Jeannot Szwarc   \n",
      "43       s44  Movie                               Jaws 3         Joe Alves   \n",
      "...      ...    ...                                  ...               ...   \n",
      "8745   s8746  Movie  Willy Wonka & the Chocolate Factory        Mel Stuart   \n",
      "8748   s8749  Movie                 Winter of Our Dreams       John Duigan   \n",
      "8763   s8764  Movie      WWII: Report from the Aleutians       John Huston   \n",
      "8764   s8765  Movie                           Wyatt Earp   Lawrence Kasdan   \n",
      "8792   s8793  Movie                          Young Tiger            Mu Chu   \n",
      "\n",
      "                                                   cast  \\\n",
      "7     Kofi Ghanaba, Oyafunmike Ogunlano, Alexandra D...   \n",
      "22    Kamal Hassan, Meena, Gemini Ganesan, Heera Raj...   \n",
      "41    Roy Scheider, Robert Shaw, Richard Dreyfuss, L...   \n",
      "42    Roy Scheider, Lorraine Gary, Murray Hamilton, ...   \n",
      "43    Dennis Quaid, Bess Armstrong, Simon MacCorkind...   \n",
      "...                                                 ...   \n",
      "8745  Gene Wilder, Jack Albertson, Peter Ostrum, Roy...   \n",
      "8748  Judy Davis, Bryan Brown, Cathy Downes, Baz Luh...   \n",
      "8763                                          Not Given   \n",
      "8764  Kevin Costner, Dennis Quaid, Gene Hackman, Dav...   \n",
      "8792  Qiu Yuen, Charlie Chin, Jackie Chan, Hu Chin, ...   \n",
      "\n",
      "                                                country date_added  \\\n",
      "7     United States, Ghana, Burkina Faso, United Kin... 2021-09-24   \n",
      "22                                            Not Given 2021-09-21   \n",
      "41                                        United States 2021-09-16   \n",
      "42                                        United States 2021-09-16   \n",
      "43                                        United States 2021-09-16   \n",
      "...                                                 ...        ...   \n",
      "8745          United States, East Germany, West Germany 2020-01-01   \n",
      "8748                                          Australia 2016-11-01   \n",
      "8763                                      United States 2017-03-31   \n",
      "8764                                      United States 2020-01-01   \n",
      "8792                                          Hong Kong 2016-11-01   \n",
      "\n",
      "      release_year rating duration  \\\n",
      "7             1993  TV-MA  125 min   \n",
      "22            1996  TV-PG  161 min   \n",
      "41            1975     PG  124 min   \n",
      "42            1978     PG  116 min   \n",
      "43            1983     PG   98 min   \n",
      "...            ...    ...      ...   \n",
      "8745          1971      G  100 min   \n",
      "8748          1981     NR   86 min   \n",
      "8763          1943  TV-PG   45 min   \n",
      "8764          1994  PG-13  191 min   \n",
      "8792          1973     NR   81 min   \n",
      "\n",
      "                                              listed_in  duration_value  \\\n",
      "7      Dramas, Independent Movies, International Movies           125.0   \n",
      "22                       Comedies, International Movies           161.0   \n",
      "41           Action & Adventure, Classic Movies, Dramas           124.0   \n",
      "42                     Dramas, Horror Movies, Thrillers           116.0   \n",
      "43         Action & Adventure, Horror Movies, Thrillers            98.0   \n",
      "...                                                 ...             ...   \n",
      "8745  Children & Family Movies, Classic Movies, Come...           100.0   \n",
      "8748                             Classic Movies, Dramas            86.0   \n",
      "8763                                      Documentaries            45.0   \n",
      "8764                                 Action & Adventure           191.0   \n",
      "8792           Action & Adventure, International Movies            81.0   \n",
      "\n",
      "     duration_unit                                           dir_cast  \n",
      "7              min  Haile Gerima---Kofi Ghanaba, Oyafunmike Ogunla...  \n",
      "22             min  K.S. Ravikumar---Kamal Hassan, Meena, Gemini G...  \n",
      "41             min  Steven Spielberg---Roy Scheider, Robert Shaw, ...  \n",
      "42             min  Jeannot Szwarc---Roy Scheider, Lorraine Gary, ...  \n",
      "43             min  Joe Alves---Dennis Quaid, Bess Armstrong, Simo...  \n",
      "...            ...                                                ...  \n",
      "8745           min  Mel Stuart---Gene Wilder, Jack Albertson, Pete...  \n",
      "8748           min  John Duigan---Judy Davis, Bryan Brown, Cathy D...  \n",
      "8763           min                            John Huston---Not Given  \n",
      "8764           min  Lawrence Kasdan---Kevin Costner, Dennis Quaid,...  \n",
      "8792           min  Mu Chu---Qiu Yuen, Charlie Chin, Jackie Chan, ...  \n",
      "\n",
      "[412 rows x 14 columns]\n",
      "     show_id   type                                              title  \\\n",
      "597     s598  Movie        Talladega Nights: The Ballad of Ricky Bobby   \n",
      "2714   s2715  Movie  Violet Evergarden: Eternity and the Auto Memor...   \n",
      "3046   s3047  Movie                      All the Freckles in the World   \n",
      "7356   s7357  Movie                                   Loving Annabelle   \n",
      "8261   s8262  Movie                                    The Crying Game   \n",
      "\n",
      "              director                                               cast  \\\n",
      "597         Adam McKay  Will Ferrell, John C. Reilly, Sacha Baron Cohe...   \n",
      "2714     Haruka Fujita            Yui Ishikawa, Minako Kotobuki, Aoi Yuki   \n",
      "3046      Yibrán Asuad  Hánssel Casillas, Loreto Peralta, Andrea Sutto...   \n",
      "7356  Katherine Brooks  Erin Kelly, Diane Gaidry, Laura Breckenridge, ...   \n",
      "8261       Neil Jordan  Stephen Rea, Miranda Richardson, Forest Whitak...   \n",
      "\n",
      "                                   country date_added  release_year rating  \\\n",
      "597                          United States 2021-07-01          2006  PG-13   \n",
      "2714                                 Japan 2020-04-02          2019  TV-PG   \n",
      "3046                                Mexico 2020-01-03          2020  TV-14   \n",
      "7356                         United States 2018-07-01          2006  TV-MA   \n",
      "8261  United Kingdom, Japan, United States 2020-01-01          1992      R   \n",
      "\n",
      "     duration                                          listed_in  \\\n",
      "597   108 min        Action & Adventure, Comedies, Sports Movies   \n",
      "2714   91 min  Anime Features, International Movies, Sci-Fi &...   \n",
      "3046   90 min    Comedies, International Movies, Romantic Movies   \n",
      "7356   77 min           Dramas, Independent Movies, LGBTQ Movies   \n",
      "8261  112 min      Classic Movies, Independent Movies, Thrillers   \n",
      "\n",
      "      duration_value duration_unit  \\\n",
      "597            108.0           min   \n",
      "2714            91.0           min   \n",
      "3046            90.0           min   \n",
      "7356            77.0           min   \n",
      "8261           112.0           min   \n",
      "\n",
      "                                               dir_cast  \n",
      "597   Adam McKay---Will Ferrell, John C. Reilly, Sac...  \n",
      "2714  Haruka Fujita---Yui Ishikawa, Minako Kotobuki,...  \n",
      "3046  Yibrán Asuad---Hánssel Casillas, Loreto Peralt...  \n",
      "7356  Katherine Brooks---Erin Kelly, Diane Gaidry, L...  \n",
      "8261  Neil Jordan---Stephen Rea, Miranda Richardson,...  \n"
     ]
    }
   ],
   "source": [
    "#Remove any columns you may have added during wrangling\n",
    "df['dir_cast'] = df['director'] + '---' + df['cast']\n",
    "#Ensure each column has the correct data type e.g. verify that date_added is datetime and duration_value is numeric.\n",
    "print(df.dtypes)\n",
    "print(df.isnull().sum())\n",
    "#Use business logic or sanity rules to identify anomalies e.g. records before 1997\n",
    "print(df[df['release_year'] < 1997])  # Sanity check\n",
    "#Sample a few rows to check visually e.g. df.sample(5)\n",
    "print(df.sample(5))\n"
   ]
  },
  {
   "cell_type": "code",
   "execution_count": 29,
   "id": "8c09934c",
   "metadata": {
    "execution": {
     "iopub.execute_input": "2025-05-23T19:34:46.585513Z",
     "iopub.status.busy": "2025-05-23T19:34:46.585181Z",
     "iopub.status.idle": "2025-05-23T19:34:46.595621Z",
     "shell.execute_reply": "2025-05-23T19:34:46.594671Z"
    },
    "papermill": {
     "duration": 0.02111,
     "end_time": "2025-05-23T19:34:46.597205",
     "exception": false,
     "start_time": "2025-05-23T19:34:46.576095",
     "status": "completed"
    },
    "tags": []
   },
   "outputs": [],
   "source": [
    "#Reset the Index\n",
    "df = df.reset_index(drop=True)\n"
   ]
  },
  {
   "cell_type": "markdown",
   "id": "0eaa8591",
   "metadata": {
    "papermill": {
     "duration": 0.009502,
     "end_time": "2025-05-23T19:34:46.615125",
     "exception": false,
     "start_time": "2025-05-23T19:34:46.605623",
     "status": "completed"
    },
    "tags": []
   },
   "source": [
    "# Step 6: _Publishing_"
   ]
  },
  {
   "cell_type": "markdown",
   "id": "ea4cc5d5",
   "metadata": {
    "papermill": {
     "duration": 0.010971,
     "end_time": "2025-05-23T19:34:46.638146",
     "exception": false,
     "start_time": "2025-05-23T19:34:46.627175",
     "status": "completed"
    },
    "tags": []
   },
   "source": [
    "The final stage where the cleaned, transformed, and validated data is made available for analysis, reporting, or other use."
   ]
  },
  {
   "cell_type": "code",
   "execution_count": 30,
   "id": "54481990",
   "metadata": {
    "execution": {
     "iopub.execute_input": "2025-05-23T19:34:46.664059Z",
     "iopub.status.busy": "2025-05-23T19:34:46.663620Z",
     "iopub.status.idle": "2025-05-23T19:34:46.838659Z",
     "shell.execute_reply": "2025-05-23T19:34:46.837329Z"
    },
    "papermill": {
     "duration": 0.194158,
     "end_time": "2025-05-23T19:34:46.840683",
     "exception": false,
     "start_time": "2025-05-23T19:34:46.646525",
     "status": "completed"
    },
    "tags": []
   },
   "outputs": [],
   "source": [
    "# Save as CSV \n",
    "df.to_csv('/kaggle/working/cleaned_netflix.csv', index=False)"
   ]
  }
 ],
 "metadata": {
  "kaggle": {
   "accelerator": "none",
   "dataSources": [
    {
     "datasetId": 434238,
     "sourceId": 2654038,
     "sourceType": "datasetVersion"
    }
   ],
   "dockerImageVersionId": 31040,
   "isGpuEnabled": false,
   "isInternetEnabled": true,
   "language": "python",
   "sourceType": "notebook"
  },
  "kernelspec": {
   "display_name": "Python 3",
   "language": "python",
   "name": "python3"
  },
  "language_info": {
   "codemirror_mode": {
    "name": "ipython",
    "version": 3
   },
   "file_extension": ".py",
   "mimetype": "text/x-python",
   "name": "python",
   "nbconvert_exporter": "python",
   "pygments_lexer": "ipython3",
   "version": "3.11.11"
  },
  "papermill": {
   "default_parameters": {},
   "duration": 18.04211,
   "end_time": "2025-05-23T19:34:47.471291",
   "environment_variables": {},
   "exception": null,
   "input_path": "__notebook__.ipynb",
   "output_path": "__notebook__.ipynb",
   "parameters": {},
   "start_time": "2025-05-23T19:34:29.429181",
   "version": "2.6.0"
  }
 },
 "nbformat": 4,
 "nbformat_minor": 5
}
